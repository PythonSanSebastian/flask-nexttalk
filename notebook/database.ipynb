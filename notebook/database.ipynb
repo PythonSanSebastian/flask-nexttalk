{
 "cells": [
  {
   "cell_type": "code",
   "execution_count": 2,
   "metadata": {
    "collapsed": true
   },
   "outputs": [],
   "source": [
    "import sqlite3\n",
    "import os"
   ]
  },
  {
   "cell_type": "code",
   "execution_count": 24,
   "metadata": {
    "collapsed": false
   },
   "outputs": [
    {
     "data": {
      "text/plain": [
       "'../data/p3_june_29.db'"
      ]
     },
     "execution_count": 24,
     "metadata": {},
     "output_type": "execute_result"
    }
   ],
   "source": [
    "#CONFIG\n",
    "\n",
    "DATA_PATH = \"../data\"\n",
    "\n",
    "DB_NAME = \"p3_june_29.db\"\n",
    "\n",
    "DB_PATH = os.path.join(DATA_PATH,DB_NAME)\n",
    "\n",
    "DB_PATH"
   ]
  },
  {
   "cell_type": "code",
   "execution_count": 77,
   "metadata": {
    "collapsed": false
   },
   "outputs": [],
   "source": [
    "#TALKS\n",
    "\n",
    "conn = sqlite3.connect(DB_PATH)\n",
    "c = conn.cursor()\n",
    "#SCHEDULE ID is about DAY, starting 1 to 7 (conference_schedule)\n",
    "'''\n",
    "events: id, schedule_id, start_time, talk_id, custom, abstract, duration, tags, sponsor_id, video, streaming, bookable, seats\n",
    "eventtracks: idm track_id, event_id\n",
    "talk: id, title, slug, duration, conference, duration, qa_duration, language, slides, video_tyoe, ...\n",
    "... level\n",
    "talkspeaker = talk_id, speaker_name, speaker_last_name\n",
    "'''\n",
    "\n",
    "events = c.execute(\"SELECT * FROM conference_event WHERE schedule_id=1\").fetchall()\n",
    "\n",
    "event_in_room = c.execute(\"SELECT\" +\n",
    "                       \" conference_eventtrack.event_id,\" +\n",
    "                       \" conference_track.title\" + \n",
    "                       \" FROM conference_eventtrack JOIN conference_track\" +\n",
    "                       \" ON conference_eventtrack.track_id=conference_track.id\").fetchall()\n",
    "\n",
    "talk = c.execute(\"SELECT id,title,duration,level FROM conference_talk\").fetchall()\n",
    "talkspeaker = c.execute(\"SELECT talk_id,first_name,last_name \"+\n",
    "                        \"FROM conference_talkspeaker JOIN auth_user \"+\n",
    "                        \"ON conference_talkspeaker.speaker_id=auth_user.id\").fetchall()\n",
    "conn.close()"
   ]
  },
  {
   "cell_type": "code",
   "execution_count": 107,
   "metadata": {
    "collapsed": false,
    "scrolled": false
   },
   "outputs": [
    {
     "name": "stdout",
     "output_type": "stream",
     "text": [
      "[u'Etxepare', u'Barria2 Room (Education Summit)', u'Barria2 Room', u'Room A4', u'A2 Room', u'Room B Terrace', u'Room C1', u'Helpdesk 1', u'Room E', u'Barria1 Room', u'Google Room', u'PythonAnywhere Room', u'Exhibition Hall / Helpdesk ', u'Sponsors Stands / Helpdesk', u'Axular', u'Barria2 Room (Local track)', u'Chillida', u'Laboa', u'Helpdesk 2', u'Helpdesk', u'Elhuyar']\n",
      "[(6, u'Google Room'), (8, u'Google Room'), (14, u'Google Room'), (228, u'Google Room'), (229, u'Google Room'), (230, u'Google Room'), (231, u'Google Room'), (233, u'Google Room'), (236, u'Google Room'), (238, u'Google Room'), (247, u'Google Room'), (248, u'Google Room'), (249, u'Google Room'), (253, u'Google Room'), (256, u'Google Room'), (257, u'Google Room'), (258, u'Google Room'), (259, u'Google Room'), (262, u'Google Room'), (265, u'Google Room'), (269, u'Google Room'), (282, u'Google Room'), (277, u'Google Room'), (286, u'Google Room'), (302, u'Google Room'), (305, u'Google Room'), (297, u'Google Room'), (308, u'Google Room'), (330, u'Google Room'), (343, u'Google Room'), (350, u'Google Room'), (352, u'Google Room'), (362, u'Google Room'), (363, u'Google Room'), (366, u'Google Room'), (367, u'Google Room'), (368, u'Google Room'), (369, u'Google Room'), (370, u'Google Room'), (373, u'Google Room'), (380, u'Google Room'), (381, u'Google Room'), (254, u'Google Room'), (383, u'Google Room'), (384, u'Google Room'), (250, u'Google Room'), (387, u'Google Room'), (251, u'Google Room'), (252, u'Google Room'), (397, u'Google Room'), (399, u'Google Room'), (26, u'Google Room'), (440, u'Google Room'), (273, u'Google Room'), (283, u'Google Room'), (581, u'Google Room'), (582, u'Google Room'), (584, u'Google Room'), (37, u'Google Room'), (278, u'Google Room'), (38, u'Google Room'), (284, u'Google Room'), (307, u'Google Room'), (546, u'Google Room'), (276, u'Google Room'), (661, u'Google Room'), (79, u'Google Room'), (35, u'Google Room'), (309, u'Google Room'), (36, u'Google Room'), (660, u'Google Room')]\n"
     ]
    }
   ],
   "source": [
    "def rooms(type=\"list\"):\n",
    "    myset = set([r[1] for r in event_in_room] )\n",
    "    #print myset\n",
    "    if(type == \"list\"):\n",
    "        myset = list(myset)\n",
    "    return myset\n",
    "\n",
    "def talks_from_room(room=\"Google Room\"):\n",
    "    talks = [r for r in event_in_room if r[1] in room]\n",
    "    return(talks)\n",
    "\n",
    "def get_events():\n",
    "    talks = talks_from_room()\n",
    "    talk_ids = [t[0] for t in talks]\n",
    "    my_talks = [t for t in events if t[3] in talk_ids]\n",
    "    return(my_talks)\n",
    "\n",
    "print(rooms())\n",
    "print(talks_from_room())\n"
   ]
  },
  {
   "cell_type": "code",
   "execution_count": 123,
   "metadata": {
    "collapsed": false
   },
   "outputs": [
    {
     "data": {
      "text/plain": [
       "[(104, 1, u'15:15:00', 6, u'', u'', 0, u'', None, u'', 0, 0),\n",
       " (167, 1, u'15:15:00', 269, u'', u'', 0, u'', None, u'', 0, 0),\n",
       " (195, 1, u'12:30:00', 247, u'', u'', 0, u'', None, u'', 0, 0),\n",
       " (233, 1, u'15:45:00', 233, u'', u'', 0, u'', None, u'', 0, 0),\n",
       " (370, 1, u'16:45:00', 229, u'', u'', 0, u'', None, u'', 0, 0),\n",
       " (377, 1, u'14:30:00', 14, u'', u'', 0, u'', None, u'', 0, 0),\n",
       " (579, 1, u'15:15:00', 265, u'', u'', 0, u'', None, u'', 0, 0),\n",
       " (646, 1, u'14:30:00', 373, u'', u'', 0, u'', None, u'', 0, 0),\n",
       " (647, 1, u'11:00:00', 373, u'', u'', 150, u'', None, u'', 0, 0)]"
      ]
     },
     "execution_count": 123,
     "metadata": {},
     "output_type": "execute_result"
    }
   ],
   "source": [
    "a = get_events()\n",
    "a"
   ]
  }
 ],
 "metadata": {
  "kernelspec": {
   "display_name": "Python 2",
   "language": "python",
   "name": "python2"
  },
  "language_info": {
   "codemirror_mode": {
    "name": "ipython",
    "version": 2
   },
   "file_extension": ".py",
   "mimetype": "text/x-python",
   "name": "python",
   "nbconvert_exporter": "python",
   "pygments_lexer": "ipython2",
   "version": "2.7.6"
  }
 },
 "nbformat": 4,
 "nbformat_minor": 0
}
